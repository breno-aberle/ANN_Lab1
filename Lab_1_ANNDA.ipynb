{
 "cells": [
  {
   "cell_type": "code",
   "execution_count": 1,
   "metadata": {},
   "outputs": [],
   "source": [
    "# import\n",
    "import numpy as np\n",
    "import pandas as pd\n",
    "import matplotlib.pyplot as plt\n"
   ]
  },
  {
   "cell_type": "markdown",
   "metadata": {},
   "source": [
    "## Single-layer perceptron\n",
    "* Binary classification (-1/1), Attention: Delta rule didn't work with (0/1)"
   ]
  },
  {
   "cell_type": "code",
   "execution_count": 2,
   "metadata": {},
   "outputs": [],
   "source": [
    "def plot_decision_boundary_simple(weights):\n",
    "    if(weights.shape[1]==3): # with bias: w = (w1, w2, b)\n",
    "        w1 = weights[0][0]\n",
    "        w2 = weights[0][1]\n",
    "        b = weights[0][2]\n",
    "        slope = -(b/w2) / (b/w1)\n",
    "        y_intercept = -b / w2\n",
    "        axes = plt.gca() # Get the current Axes instance on the current figure\n",
    "        x_vals = np.array(axes.get_xlim()) # get_xlim: Return the x-axis view limits\n",
    "        y_vals = y_intercept + slope * x_vals\n",
    "        plt.plot(x_vals, y_vals,'--',label='decision boundary with bias')\n",
    "    if(weights.shape[1]==2): # without bias: w = (w1, w2)\n",
    "        w1 = weights[0][0]\n",
    "        w2 = weights[0][1]\n",
    "\n",
    "def initialize_weights(dim_row, dim_col):\n",
    "    W = np.random.randn(dim_row,dim_col) * 0.01\n",
    "    return W\n",
    "\n",
    "# Evaluation metrics\n",
    "def ratio_misclassified_examples(W,X,Y):\n",
    "    return\n",
    "\n",
    "def mean_squared_error(W,X,Y):\n",
    "    #mse = \n",
    "    #return mse\n",
    "    return"
   ]
  },
  {
   "cell_type": "markdown",
   "metadata": {},
   "source": [
    "### Perceptron Learning Rule\n",
    "* activation function is step-function\n",
    "* threshold in step-function is minus bias: -b, the last entry in weight matrix\n",
    "* difference to delta rule: calculate output y = w*x, update w += (+/-) * learn_rate * x if misclassified"
   ]
  },
  {
   "cell_type": "code",
   "execution_count": 3,
   "metadata": {},
   "outputs": [],
   "source": [
    "def perceptron_learning_rule(W, X, Y, learning_rate):\n",
    "    patterns = X\n",
    "    targets = Y\n",
    "    weights = W\n",
    "    \n",
    "    flag = True\n",
    "    while(flag): # Make sure every instance gets classified correctly: if sample gets classified wrong then flag = True, and iterate from the beginning\n",
    "        flag = False\n",
    "        for i in range(0,patterns.shape[1]):\n",
    "            sample = patterns[:,i].reshape(patterns.shape[0],1)\n",
    "            y = np.dot(weights,sample) # output: y = w*x\n",
    "            \n",
    "            if y < -weights[0][2]: # if y (output) is lower than threshold\n",
    "                y = -1\n",
    "            elif y >= -weights[0][2]: # y is higher than threshold\n",
    "                y = 1\n",
    "\n",
    "            if y == -1 and targets[0][i] == 1: \n",
    "                delta_W = learning_rate * sample.T\n",
    "                weights += delta_W\n",
    "                flag = True\n",
    "            elif y == 1 and targets[0][i] == -1:\n",
    "                delta_W = (-1) * learning_rate * sample.T\n",
    "                weights += delta_W\n",
    "                flag = True\n",
    "        #ratio_misclassified_examples(weights, patterns, targets)\n",
    "        #mean_squared_error(weights, patterns, targets)\n",
    "    \n",
    "    return weights\n",
    "\n",
    "def single_layer_perceptronrule(X, Y, learning_rate=0.001, epochs=20):\n",
    "    # initialize\n",
    "    patterns = X # features (training)\n",
    "    targets = Y # labels (training)\n",
    "    \n",
    "    # initialize weights\n",
    "    W = initialize_weights(targets.shape[0],patterns.shape[0])\n",
    "    \n",
    "    print(W)\n",
    "    \n",
    "    # Apply perceptron_learning_rule epochs times\n",
    "    #for x in range(epochs): # epoch doesn't make sense here?\n",
    "    W = perceptron_learning_rule(W, patterns, targets, learning_rate)\n",
    "    print(W)\n",
    "    \n",
    "    return W\n",
    "\n"
   ]
  },
  {
   "cell_type": "markdown",
   "metadata": {},
   "source": [
    "### Delta rule\n",
    "* difference to perceptron learning rule: calculate activation function only in the end"
   ]
  },
  {
   "cell_type": "code",
   "execution_count": 4,
   "metadata": {},
   "outputs": [],
   "source": [
    "def delta_rule_batch(W, patterns, targets, learning_rate):\n",
    "    delta_W = (-1)*learning_rate * np.dot((np.dot(W,patterns)-targets), patterns.T)\n",
    "    W += delta_W\n",
    "    return W\n",
    "\n",
    "def delta_rule_sequential(W, patterns, targets, learning_rate):\n",
    "    weights = W\n",
    "    \n",
    "    for i in range(0,patterns.shape[1]):\n",
    "        sample = patterns[:,i].reshape(patterns.shape[0],1)\n",
    "        target = targets[0][i]\n",
    "        delta_W = (-1)*learning_rate * np.dot((np.dot(weights,sample)-target), sample.T)\n",
    "        W += delta_W\n",
    "        \n",
    "    return weights\n",
    "\n",
    "def single_layer_batch_deltarule(X, Y, learning_rate=0.001, epochs=20):\n",
    "    # initialize\n",
    "    patterns = X # features (training)\n",
    "    targets = Y # labels (training)\n",
    "\n",
    "    # initialize weights\n",
    "    W = initialize_weights(targets.shape[0],patterns.shape[0])\n",
    "    \n",
    "    # Apply delta-rule (batch) epochs times\n",
    "    for x in range(epochs):\n",
    "        W = delta_rule_batch(W, patterns, targets, learning_rate)\n",
    "        #ratio_misclassified_examples(W, patterns, targets)\n",
    "        #mean_squared_error(W, patterns, targets)\n",
    "    \n",
    "    return W\n",
    "\n",
    "def single_layer_sequential_deltarule(X, Y, learning_rate=0.001, epochs=20):\n",
    "    # initialize\n",
    "    patterns = X # features (training)\n",
    "    targets = Y # labels (training)\n",
    "\n",
    "    # initialize weights\n",
    "    W = initialize_weights(targets.shape[0],patterns.shape[0])\n",
    "    \n",
    "    # Apply delta-rule (sequential) epochs times\n",
    "    for x in range(epochs):\n",
    "        W = delta_rule_sequential(W, patterns, targets, learning_rate)\n",
    "        #ratio_misclassified_examples(W, patterns, targets)\n",
    "        #mean_squared_error(W, patterns, targets)\n",
    "    \n",
    "    return W\n"
   ]
  },
  {
   "cell_type": "code",
   "execution_count": 5,
   "metadata": {},
   "outputs": [
    {
     "data": {
      "image/png": "[encoded data removed]",
      "text/plain": [
       "<Figure size 432x288 with 1 Axes>"
      ]
     },
     "metadata": {
      "needs_background": "light"
     },
     "output_type": "display_data"
    }
   ],
   "source": [
    "# 3.1.1\n",
    "# Generate dataset for binary classification (linearly separable dataset)\n",
    "\n",
    "n = 100 # number of samples\n",
    "mA = (2, 0.5) # mean of class A\n",
    "mB = (-1.5, 0.0)\n",
    "sigmaA = 0.5 # variance of class A\n",
    "sigmaB = 0.5\n",
    "\n",
    "classA_x1 = np.squeeze(np.random.randn(1,n) * sigmaA + mA[0]) # class A: -1\n",
    "classA_x2 = np.squeeze(np.random.randn(1,n) * sigmaA + mA[1])\n",
    "classB_x1 = np.squeeze(np.random.randn(1,n) * sigmaB + mB[0]) # class B: 1\n",
    "classB_x2 = np.squeeze(np.random.randn(1,n) * sigmaB + mB[1])\n",
    "\n",
    "# Create matrices\n",
    "classA = np.vstack((classA_x1,classA_x2))\n",
    "classB = np.vstack((classB_x1,classB_x2))\n",
    "X = np.concatenate((classA,classB), axis=1)\n",
    "X = np.append(X, np.full(shape=(1,X.shape[1]),fill_value=1,dtype=X.dtype), axis=0) # append bias = row filled with 1\n",
    "\n",
    "classA_y = np.full(shape=(n,),fill_value=-1)\n",
    "classB_y = np.ones(n)\n",
    "Y = np.concatenate((classA_y,classB_y)).reshape((1,(n*2)))\n",
    "\n",
    "# Permute\n",
    "indices = np.arange(X.shape[1])\n",
    "permuted_indices = np.random.permutation(indices)\n",
    "X = X.take(permuted_indices, axis=1)\n",
    "Y = Y.take(permuted_indices, axis=1)\n",
    "#print(\"X: \",X)\n",
    "#print(\"Y: \",Y)\n",
    "\n",
    "# 3.1.2\n",
    "# Invoke single-layer perceptron-learning\n",
    "#W = single_layer_perceptronrule(X, Y, learning_rate=0.001, epochs=20)\n",
    "\n",
    "# Invoke single-layer batch delta-rule\n",
    "#W = single_layer_batch_deltarule(X, Y, learning_rate=0.001, epochs=20)\n",
    "\n",
    "\n",
    "# Invoke single-layer sequential delta-rule\n",
    "W = single_layer_sequential_deltarule(X, Y, learning_rate=0.001, epochs=20)\n",
    "\n",
    "\n",
    "# plot dataset with decision boundary\n",
    "fig = plt.figure()\n",
    "ax = plt.axes()\n",
    "plt.xlim(-4, 4)\n",
    "plt.ylim(-4, 4)\n",
    "plt.title('dataset visualization')\n",
    "plt.scatter(classA_x1, classA_x2, c=\"red\")\n",
    "plt.scatter(classB_x1, classB_x2, c=\"blue\")\n",
    "plot_decision_boundary_simple(W) # plot decision boundary\n",
    "plt.xlabel('x1')\n",
    "plt.ylabel('x2')\n",
    "plt.show()\n"
   ]
  },
  {
   "cell_type": "markdown",
   "metadata": {},
   "source": [
    "#### Classification of samples that are not linearly separable (part 1)\n",
    "* create non-linearly separable dataset by yourself\n",
    "* Apply and compare: perceptron learning, delta rule (batch), delta rule (sequential) similar to previous one"
   ]
  },
  {
   "cell_type": "code",
   "execution_count": 8,
   "metadata": {},
   "outputs": [
    {
     "data": {
      "image/png": "[encoded data removed]",
      "text/plain": [
       "<Figure size 432x288 with 1 Axes>"
      ]
     },
     "metadata": {
      "needs_background": "light"
     },
     "output_type": "display_data"
    }
   ],
   "source": [
    "# 3.1.3 (part 1)\n",
    "# dataset not linearly separable\n",
    "\n",
    "n = 100 # number of samples\n",
    "mA = (1, 0.5) # mean of class A\n",
    "mB = (-1, 0.0)\n",
    "sigmaA = 0.8 # variance of class A\n",
    "sigmaB = 0.8\n",
    "\n",
    "classA_x1 = np.squeeze(np.random.randn(1,n) * sigmaA + mA[0]) # class A: -1\n",
    "classA_x2 = np.squeeze(np.random.randn(1,n) * sigmaA + mA[1])\n",
    "classB_x1 = np.squeeze(np.random.randn(1,n) * sigmaB + mB[0]) # class B: 1\n",
    "classB_x2 = np.squeeze(np.random.randn(1,n) * sigmaB + mB[1])\n",
    "\n",
    "# Create matrices\n",
    "classA = np.vstack((classA_x1,classA_x2))\n",
    "classB = np.vstack((classB_x1,classB_x2))\n",
    "X = np.concatenate((classA,classB), axis=1)\n",
    "X = np.append(X, np.full(shape=(1,X.shape[1]),fill_value=1,dtype=X.dtype), axis=0) # append bias = row filled with 1\n",
    "\n",
    "classA_y = np.full(shape=(n,),fill_value=-1)\n",
    "classB_y = np.ones(n)\n",
    "Y = np.concatenate((classA_y,classB_y)).reshape((1,(n*2)))\n",
    "\n",
    "# Permute\n",
    "indices = np.arange(X.shape[1])\n",
    "permuted_indices = np.random.permutation(indices)\n",
    "X = X.take(permuted_indices, axis=1)\n",
    "Y = Y.take(permuted_indices, axis=1)\n",
    "#print(\"X: \",X)\n",
    "#print(\"Y: \",Y)\n",
    "\n",
    "# Invoke single-layer perceptron-learning: !! Infinite loop since it doesn't converge !!\n",
    "#W = single_layer_perceptronrule(X, Y, learning_rate=0.001, epochs=20)\n",
    "\n",
    "# Invoke single-layer batch delta-rule\n",
    "# W = single_layer_batch_deltarule(X, Y, learning_rate=0.001, epochs=20)\n",
    "\n",
    "# Invoke single-layer sequential delta-rule\n",
    "W = single_layer_sequential_deltarule(X, Y, learning_rate=0.001, epochs=20)\n",
    "\n",
    "\n",
    "# plot dataset with decision boundary\n",
    "fig = plt.figure()\n",
    "ax = plt.axes()\n",
    "plt.xlim(-4, 4)\n",
    "plt.ylim(-4, 4)\n",
    "plt.title('dataset visualization')\n",
    "plt.scatter(classA_x1, classA_x2, c=\"red\")\n",
    "plt.scatter(classB_x1, classB_x2, c=\"blue\")\n",
    "plot_decision_boundary_simple(W) # plot decision boundary\n",
    "plt.xlabel('x1')\n",
    "plt.ylabel('x2')\n",
    "plt.show()"
   ]
  },
  {
   "cell_type": "markdown",
   "metadata": {},
   "source": [
    "#### Classification of samples that are not linearly separable (part 2)"
   ]
  },
  {
   "cell_type": "code",
   "execution_count": null,
   "metadata": {},
   "outputs": [],
   "source": [
    "# 3.1.3 (part 2)"
   ]
  },
  {
   "cell_type": "markdown",
   "metadata": {},
   "source": [
    "### Two-layer perceptron\n",
    "* trained with backprop\n",
    "* generalised Delta rule, a.k.a. error backpropagation algorithm"
   ]
  },
  {
   "cell_type": "code",
   "execution_count": null,
   "metadata": {},
   "outputs": [],
   "source": [
    "# 3.2.1\n"
   ]
  },
  {
   "cell_type": "code",
   "execution_count": null,
   "metadata": {},
   "outputs": [],
   "source": [
    "# 3.2.2 The encoder problem\n"
   ]
  },
  {
   "cell_type": "code",
   "execution_count": null,
   "metadata": {},
   "outputs": [],
   "source": [
    "# 3.2.3 Function approximation\n"
   ]
  },
  {
   "cell_type": "markdown",
   "metadata": {},
   "source": [
    "### Multi-layer perceptron\n",
    "* Scikit-learn library"
   ]
  },
  {
   "cell_type": "code",
   "execution_count": null,
   "metadata": {},
   "outputs": [],
   "source": []
  },
  {
   "cell_type": "markdown",
   "metadata": {},
   "source": [
    "### Backup code"
   ]
  },
  {
   "cell_type": "code",
   "execution_count": 184,
   "metadata": {},
   "outputs": [],
   "source": [
    "# Neural Network model\n",
    "def two_layer_model(X, Y, n_h, epochs=20):\n",
    "    \"\"\"\n",
    "    Arguments:\n",
    "    X -- dataset of shape (input size, number of examples)\n",
    "    Y -- labels of shape (output size, number of examples)\n",
    "    n_h -- size of the hidden layer\n",
    "    epochs -- Number of iterations in gradient descent loop\n",
    "    \n",
    "    Returns:\n",
    "    parameters -- parameters learnt by the model. They can then be used to predict.\n",
    "    \"\"\"\n",
    "    \n",
    "    # get dimensions\n",
    "    n_x = X.shape[0]\n",
    "    n_h = n_h # redundant\n",
    "    n_y = Y.shape[0]\n",
    "    \n",
    "    # initialization: create W\n",
    "    \n",
    "    \n",
    "    # \n",
    "    #for i in range(0, epochs):\n",
    "        \n",
    "    \n",
    "    return parameters"
   ]
  },
  {
   "cell_type": "code",
   "execution_count": null,
   "metadata": {},
   "outputs": [],
   "source": []
  }
 ],
 "metadata": {
  "kernelspec": {
   "display_name": "Python 3",
   "language": "python",
   "name": "python3"
  },
  "language_info": {
   "codemirror_mode": {
    "name": "ipython",
    "version": 3
   },
   "file_extension": ".py",
   "mimetype": "text/x-python",
   "name": "python",
   "nbconvert_exporter": "python",
   "pygments_lexer": "ipython3",
   "version": "3.7.9"
  }
 },
 "nbformat": 4,
 "nbformat_minor": 4
}
